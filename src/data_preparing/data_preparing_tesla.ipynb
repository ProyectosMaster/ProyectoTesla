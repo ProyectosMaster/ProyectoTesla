{
 "cells": [
  {
   "cell_type": "code",
   "execution_count": 1,
   "metadata": {},
   "outputs": [],
   "source": [
    "import pandas as pd\n",
    "import os\n",
    "\n",
    "# Ignorar todos los warnings\n",
    "import warnings\n",
    "warnings.filterwarnings(\"ignore\")"
   ]
  },
  {
   "cell_type": "code",
   "execution_count": 2,
   "metadata": {},
   "outputs": [
    {
     "data": {
      "text/html": [
       "<div>\n",
       "<style scoped>\n",
       "    .dataframe tbody tr th:only-of-type {\n",
       "        vertical-align: middle;\n",
       "    }\n",
       "\n",
       "    .dataframe tbody tr th {\n",
       "        vertical-align: top;\n",
       "    }\n",
       "\n",
       "    .dataframe thead th {\n",
       "        text-align: right;\n",
       "    }\n",
       "</style>\n",
       "<table border=\"1\" class=\"dataframe\">\n",
       "  <thead>\n",
       "    <tr style=\"text-align: right;\">\n",
       "      <th></th>\n",
       "      <th>modelo</th>\n",
       "      <th>descripcion</th>\n",
       "      <th>kilometraje</th>\n",
       "      <th>precio</th>\n",
       "      <th>autonomia</th>\n",
       "      <th>velocidad_max</th>\n",
       "      <th>time_veloc_max</th>\n",
       "      <th>color</th>\n",
       "      <th>año</th>\n",
       "      <th>pais</th>\n",
       "    </tr>\n",
       "  </thead>\n",
       "  <tbody>\n",
       "    <tr>\n",
       "      <th>0</th>\n",
       "      <td>Model S</td>\n",
       "      <td>Model S, tracción a las cuatro ruedas</td>\n",
       "      <td>Cuentakilómetros con 6197 km</td>\n",
       "      <td>88.890 €</td>\n",
       "      <td>634</td>\n",
       "      <td>250</td>\n",
       "      <td>3,2</td>\n",
       "      <td>Azul Oscuro Metalizado</td>\n",
       "      <td>2024</td>\n",
       "      <td>España</td>\n",
       "    </tr>\n",
       "    <tr>\n",
       "      <th>1</th>\n",
       "      <td>Model S</td>\n",
       "      <td>Model S, tracción a las cuatro ruedas</td>\n",
       "      <td>Cuentakilómetros con 997 km</td>\n",
       "      <td>90.270 €</td>\n",
       "      <td>634</td>\n",
       "      <td>250</td>\n",
       "      <td>3,2</td>\n",
       "      <td>Azul Oscuro Metalizado</td>\n",
       "      <td>2024</td>\n",
       "      <td>España</td>\n",
       "    </tr>\n",
       "    <tr>\n",
       "      <th>2</th>\n",
       "      <td>Model S</td>\n",
       "      <td>Model S, tracción a las cuatro ruedas</td>\n",
       "      <td>Cuentakilómetros con 577 km</td>\n",
       "      <td>90.520 €</td>\n",
       "      <td>634</td>\n",
       "      <td>250</td>\n",
       "      <td>3,2</td>\n",
       "      <td>Negro Sólido</td>\n",
       "      <td>2024</td>\n",
       "      <td>España</td>\n",
       "    </tr>\n",
       "    <tr>\n",
       "      <th>3</th>\n",
       "      <td>Model S</td>\n",
       "      <td>Model S, tracción a las cuatro ruedas</td>\n",
       "      <td>Cuentakilómetros con 1151 km</td>\n",
       "      <td>91.080 €</td>\n",
       "      <td>634</td>\n",
       "      <td>250</td>\n",
       "      <td>3,2</td>\n",
       "      <td>Pintura en color Gris Sigilo</td>\n",
       "      <td>2024</td>\n",
       "      <td>España</td>\n",
       "    </tr>\n",
       "    <tr>\n",
       "      <th>4</th>\n",
       "      <td>Model S</td>\n",
       "      <td>Model S, tracción a las cuatro ruedas</td>\n",
       "      <td>Cuentakilómetros con 27 km</td>\n",
       "      <td>91.790 €</td>\n",
       "      <td>634</td>\n",
       "      <td>250</td>\n",
       "      <td>3,2</td>\n",
       "      <td>Pintura en color Gris Sigilo</td>\n",
       "      <td>2024</td>\n",
       "      <td>España</td>\n",
       "    </tr>\n",
       "    <tr>\n",
       "      <th>...</th>\n",
       "      <td>...</td>\n",
       "      <td>...</td>\n",
       "      <td>...</td>\n",
       "      <td>...</td>\n",
       "      <td>...</td>\n",
       "      <td>...</td>\n",
       "      <td>...</td>\n",
       "      <td>...</td>\n",
       "      <td>...</td>\n",
       "      <td>...</td>\n",
       "    </tr>\n",
       "    <tr>\n",
       "      <th>190</th>\n",
       "      <td>Model X</td>\n",
       "      <td>Plaid</td>\n",
       "      <td>Cuentakilómetros con 20.074 km</td>\n",
       "      <td>84.000 €</td>\n",
       "      <td>543</td>\n",
       "      <td>262</td>\n",
       "      <td>2,6</td>\n",
       "      <td>Blanco Perla Multicapas</td>\n",
       "      <td>2023</td>\n",
       "      <td>España</td>\n",
       "    </tr>\n",
       "    <tr>\n",
       "      <th>191</th>\n",
       "      <td>Model X</td>\n",
       "      <td>Plaid</td>\n",
       "      <td>Cuentakilómetros con 15.048 km</td>\n",
       "      <td>84.600 €</td>\n",
       "      <td>543</td>\n",
       "      <td>262</td>\n",
       "      <td>2,6</td>\n",
       "      <td>Blanco Perla Multicapas</td>\n",
       "      <td>2023</td>\n",
       "      <td>España</td>\n",
       "    </tr>\n",
       "    <tr>\n",
       "      <th>192</th>\n",
       "      <td>Model X</td>\n",
       "      <td>Plaid</td>\n",
       "      <td>Cuentakilómetros con 21.475 km</td>\n",
       "      <td>85.500 €</td>\n",
       "      <td>543</td>\n",
       "      <td>262</td>\n",
       "      <td>2,6</td>\n",
       "      <td>Plata Medianoche Metalizado</td>\n",
       "      <td>2023</td>\n",
       "      <td>España</td>\n",
       "    </tr>\n",
       "    <tr>\n",
       "      <th>193</th>\n",
       "      <td>Model Y</td>\n",
       "      <td>Model Y Tracción trasera</td>\n",
       "      <td>Cuentakilómetros con 12.146 km</td>\n",
       "      <td>40.500 €</td>\n",
       "      <td>430</td>\n",
       "      <td>217</td>\n",
       "      <td>6,9</td>\n",
       "      <td>Pintura Plateado Mercurio</td>\n",
       "      <td>2024</td>\n",
       "      <td>España</td>\n",
       "    </tr>\n",
       "    <tr>\n",
       "      <th>194</th>\n",
       "      <td>Model Y</td>\n",
       "      <td>Performance con tracción a las cuatro ruedas</td>\n",
       "      <td>Cuentakilómetros con 48.582 km</td>\n",
       "      <td>43.800 €</td>\n",
       "      <td>514</td>\n",
       "      <td>250</td>\n",
       "      <td>3,7</td>\n",
       "      <td>Color Negro Sólido</td>\n",
       "      <td>2023</td>\n",
       "      <td>España</td>\n",
       "    </tr>\n",
       "  </tbody>\n",
       "</table>\n",
       "<p>195 rows × 10 columns</p>\n",
       "</div>"
      ],
      "text/plain": [
       "      modelo                                   descripcion  \\\n",
       "0    Model S         Model S, tracción a las cuatro ruedas   \n",
       "1    Model S         Model S, tracción a las cuatro ruedas   \n",
       "2    Model S         Model S, tracción a las cuatro ruedas   \n",
       "3    Model S         Model S, tracción a las cuatro ruedas   \n",
       "4    Model S         Model S, tracción a las cuatro ruedas   \n",
       "..       ...                                           ...   \n",
       "190  Model X                                         Plaid   \n",
       "191  Model X                                         Plaid   \n",
       "192  Model X                                         Plaid   \n",
       "193  Model Y                      Model Y Tracción trasera   \n",
       "194  Model Y  Performance con tracción a las cuatro ruedas   \n",
       "\n",
       "                        kilometraje    precio  autonomia  velocidad_max  \\\n",
       "0      Cuentakilómetros con 6197 km  88.890 €        634            250   \n",
       "1       Cuentakilómetros con 997 km  90.270 €        634            250   \n",
       "2       Cuentakilómetros con 577 km  90.520 €        634            250   \n",
       "3      Cuentakilómetros con 1151 km  91.080 €        634            250   \n",
       "4        Cuentakilómetros con 27 km  91.790 €        634            250   \n",
       "..                              ...       ...        ...            ...   \n",
       "190  Cuentakilómetros con 20.074 km  84.000 €        543            262   \n",
       "191  Cuentakilómetros con 15.048 km  84.600 €        543            262   \n",
       "192  Cuentakilómetros con 21.475 km  85.500 €        543            262   \n",
       "193  Cuentakilómetros con 12.146 km  40.500 €        430            217   \n",
       "194  Cuentakilómetros con 48.582 km  43.800 €        514            250   \n",
       "\n",
       "    time_veloc_max                         color   año    pais  \n",
       "0              3,2        Azul Oscuro Metalizado  2024  España  \n",
       "1              3,2        Azul Oscuro Metalizado  2024  España  \n",
       "2              3,2                  Negro Sólido  2024  España  \n",
       "3              3,2  Pintura en color Gris Sigilo  2024  España  \n",
       "4              3,2  Pintura en color Gris Sigilo  2024  España  \n",
       "..             ...                           ...   ...     ...  \n",
       "190            2,6       Blanco Perla Multicapas  2023  España  \n",
       "191            2,6       Blanco Perla Multicapas  2023  España  \n",
       "192            2,6   Plata Medianoche Metalizado  2023  España  \n",
       "193            6,9     Pintura Plateado Mercurio  2024  España  \n",
       "194            3,7            Color Negro Sólido  2023  España  \n",
       "\n",
       "[195 rows x 10 columns]"
      ]
     },
     "execution_count": 2,
     "metadata": {},
     "output_type": "execute_result"
    }
   ],
   "source": [
    "path=\"C:/Users/galla/Dropbox/PC/Documents/1 Pedro G Gallardo/Master IA y Big Data/Casa/proyecto tesla/ProyectoTesla/data/raw/tesla.com\"\n",
    "os.chdir(path)\n",
    "coches_pedro = pd.read_csv('coches_pedro.csv', sep=';')\n",
    "coches_pedro"
   ]
  },
  {
   "cell_type": "code",
   "execution_count": 3,
   "metadata": {},
   "outputs": [
    {
     "data": {
      "text/html": [
       "<div>\n",
       "<style scoped>\n",
       "    .dataframe tbody tr th:only-of-type {\n",
       "        vertical-align: middle;\n",
       "    }\n",
       "\n",
       "    .dataframe tbody tr th {\n",
       "        vertical-align: top;\n",
       "    }\n",
       "\n",
       "    .dataframe thead th {\n",
       "        text-align: right;\n",
       "    }\n",
       "</style>\n",
       "<table border=\"1\" class=\"dataframe\">\n",
       "  <thead>\n",
       "    <tr style=\"text-align: right;\">\n",
       "      <th></th>\n",
       "      <th>modelo</th>\n",
       "      <th>kilometraje</th>\n",
       "      <th>precio</th>\n",
       "      <th>color</th>\n",
       "      <th>año</th>\n",
       "      <th>pais</th>\n",
       "    </tr>\n",
       "  </thead>\n",
       "  <tbody>\n",
       "    <tr>\n",
       "      <th>0</th>\n",
       "      <td>Model S</td>\n",
       "      <td>Cuentakilómetros con 6197 km</td>\n",
       "      <td>88.890 €</td>\n",
       "      <td>Azul Oscuro Metalizado</td>\n",
       "      <td>2024</td>\n",
       "      <td>España</td>\n",
       "    </tr>\n",
       "    <tr>\n",
       "      <th>1</th>\n",
       "      <td>Model S</td>\n",
       "      <td>Cuentakilómetros con 997 km</td>\n",
       "      <td>90.270 €</td>\n",
       "      <td>Azul Oscuro Metalizado</td>\n",
       "      <td>2024</td>\n",
       "      <td>España</td>\n",
       "    </tr>\n",
       "    <tr>\n",
       "      <th>2</th>\n",
       "      <td>Model S</td>\n",
       "      <td>Cuentakilómetros con 577 km</td>\n",
       "      <td>90.520 €</td>\n",
       "      <td>Negro Sólido</td>\n",
       "      <td>2024</td>\n",
       "      <td>España</td>\n",
       "    </tr>\n",
       "    <tr>\n",
       "      <th>3</th>\n",
       "      <td>Model S</td>\n",
       "      <td>Cuentakilómetros con 1151 km</td>\n",
       "      <td>91.080 €</td>\n",
       "      <td>Pintura en color Gris Sigilo</td>\n",
       "      <td>2024</td>\n",
       "      <td>España</td>\n",
       "    </tr>\n",
       "    <tr>\n",
       "      <th>4</th>\n",
       "      <td>Model S</td>\n",
       "      <td>Cuentakilómetros con 27 km</td>\n",
       "      <td>91.790 €</td>\n",
       "      <td>Pintura en color Gris Sigilo</td>\n",
       "      <td>2024</td>\n",
       "      <td>España</td>\n",
       "    </tr>\n",
       "    <tr>\n",
       "      <th>...</th>\n",
       "      <td>...</td>\n",
       "      <td>...</td>\n",
       "      <td>...</td>\n",
       "      <td>...</td>\n",
       "      <td>...</td>\n",
       "      <td>...</td>\n",
       "    </tr>\n",
       "    <tr>\n",
       "      <th>190</th>\n",
       "      <td>Model X</td>\n",
       "      <td>Cuentakilómetros con 20.074 km</td>\n",
       "      <td>84.000 €</td>\n",
       "      <td>Blanco Perla Multicapas</td>\n",
       "      <td>2023</td>\n",
       "      <td>España</td>\n",
       "    </tr>\n",
       "    <tr>\n",
       "      <th>191</th>\n",
       "      <td>Model X</td>\n",
       "      <td>Cuentakilómetros con 15.048 km</td>\n",
       "      <td>84.600 €</td>\n",
       "      <td>Blanco Perla Multicapas</td>\n",
       "      <td>2023</td>\n",
       "      <td>España</td>\n",
       "    </tr>\n",
       "    <tr>\n",
       "      <th>192</th>\n",
       "      <td>Model X</td>\n",
       "      <td>Cuentakilómetros con 21.475 km</td>\n",
       "      <td>85.500 €</td>\n",
       "      <td>Plata Medianoche Metalizado</td>\n",
       "      <td>2023</td>\n",
       "      <td>España</td>\n",
       "    </tr>\n",
       "    <tr>\n",
       "      <th>193</th>\n",
       "      <td>Model Y</td>\n",
       "      <td>Cuentakilómetros con 12.146 km</td>\n",
       "      <td>40.500 €</td>\n",
       "      <td>Pintura Plateado Mercurio</td>\n",
       "      <td>2024</td>\n",
       "      <td>España</td>\n",
       "    </tr>\n",
       "    <tr>\n",
       "      <th>194</th>\n",
       "      <td>Model Y</td>\n",
       "      <td>Cuentakilómetros con 48.582 km</td>\n",
       "      <td>43.800 €</td>\n",
       "      <td>Color Negro Sólido</td>\n",
       "      <td>2023</td>\n",
       "      <td>España</td>\n",
       "    </tr>\n",
       "  </tbody>\n",
       "</table>\n",
       "<p>195 rows × 6 columns</p>\n",
       "</div>"
      ],
      "text/plain": [
       "      modelo                     kilometraje    precio  \\\n",
       "0    Model S    Cuentakilómetros con 6197 km  88.890 €   \n",
       "1    Model S     Cuentakilómetros con 997 km  90.270 €   \n",
       "2    Model S     Cuentakilómetros con 577 km  90.520 €   \n",
       "3    Model S    Cuentakilómetros con 1151 km  91.080 €   \n",
       "4    Model S      Cuentakilómetros con 27 km  91.790 €   \n",
       "..       ...                             ...       ...   \n",
       "190  Model X  Cuentakilómetros con 20.074 km  84.000 €   \n",
       "191  Model X  Cuentakilómetros con 15.048 km  84.600 €   \n",
       "192  Model X  Cuentakilómetros con 21.475 km  85.500 €   \n",
       "193  Model Y  Cuentakilómetros con 12.146 km  40.500 €   \n",
       "194  Model Y  Cuentakilómetros con 48.582 km  43.800 €   \n",
       "\n",
       "                            color   año    pais  \n",
       "0          Azul Oscuro Metalizado  2024  España  \n",
       "1          Azul Oscuro Metalizado  2024  España  \n",
       "2                    Negro Sólido  2024  España  \n",
       "3    Pintura en color Gris Sigilo  2024  España  \n",
       "4    Pintura en color Gris Sigilo  2024  España  \n",
       "..                            ...   ...     ...  \n",
       "190       Blanco Perla Multicapas  2023  España  \n",
       "191       Blanco Perla Multicapas  2023  España  \n",
       "192   Plata Medianoche Metalizado  2023  España  \n",
       "193     Pintura Plateado Mercurio  2024  España  \n",
       "194            Color Negro Sólido  2023  España  \n",
       "\n",
       "[195 rows x 6 columns]"
      ]
     },
     "execution_count": 3,
     "metadata": {},
     "output_type": "execute_result"
    }
   ],
   "source": [
    "coches_pedro.drop(columns=['descripcion', 'autonomia', 'velocidad_max', 'time_veloc_max'], inplace=True)\n",
    "coches_pedro"
   ]
  },
  {
   "cell_type": "code",
   "execution_count": 4,
   "metadata": {},
   "outputs": [
    {
     "data": {
      "text/plain": [
       "modelo\n",
       "Model Y    76\n",
       "Model 3    65\n",
       "Model X    29\n",
       "Model S    25\n",
       "Name: count, dtype: int64"
      ]
     },
     "execution_count": 4,
     "metadata": {},
     "output_type": "execute_result"
    }
   ],
   "source": [
    "coches_pedro['modelo'].value_counts()"
   ]
  },
  {
   "cell_type": "code",
   "execution_count": 5,
   "metadata": {},
   "outputs": [
    {
     "data": {
      "text/plain": [
       "kilometraje\n",
       "Cuentakilómetros con 0 km         4\n",
       "Cuentakilómetros con 13 km        3\n",
       "51.760 €                          3\n",
       "46.770 €                          2\n",
       "Cuentakilómetros con 26 km        2\n",
       "                                 ..\n",
       "Cuentakilómetros con 20.074 km    1\n",
       "Cuentakilómetros con 15.048 km    1\n",
       "Cuentakilómetros con 21.475 km    1\n",
       "Cuentakilómetros con 12.146 km    1\n",
       "Cuentakilómetros con 48.582 km    1\n",
       "Name: count, Length: 175, dtype: int64"
      ]
     },
     "execution_count": 5,
     "metadata": {},
     "output_type": "execute_result"
    }
   ],
   "source": [
    "coches_pedro['kilometraje'].value_counts()"
   ]
  },
  {
   "cell_type": "code",
   "execution_count": 6,
   "metadata": {},
   "outputs": [],
   "source": [
    "coches_copia = coches_pedro.copy()"
   ]
  },
  {
   "cell_type": "code",
   "execution_count": 7,
   "metadata": {},
   "outputs": [],
   "source": [
    "for i in range(len(coches_pedro['kilometraje'])):\n",
    "    serie=coches_pedro['kilometraje'][i].split()\n",
    "    if len(serie) > 2:\n",
    "        coches_pedro['kilometraje'][i] = serie[2]\n",
    "    else:\n",
    "        coches_pedro['kilometraje'][i] = 0\n",
    "\n",
    "    # print(serie, coches_pedro['kilometraje'][i])"
   ]
  },
  {
   "cell_type": "code",
   "execution_count": 8,
   "metadata": {},
   "outputs": [
    {
     "data": {
      "text/plain": [
       "kilometraje\n",
       "0         55\n",
       "0          4\n",
       "13         3\n",
       "26         2\n",
       "20         2\n",
       "          ..\n",
       "20.074     1\n",
       "15.048     1\n",
       "21.475     1\n",
       "12.146     1\n",
       "48.582     1\n",
       "Name: count, Length: 131, dtype: int64"
      ]
     },
     "execution_count": 8,
     "metadata": {},
     "output_type": "execute_result"
    }
   ],
   "source": [
    "coches_pedro['kilometraje'].value_counts()"
   ]
  },
  {
   "cell_type": "code",
   "execution_count": 9,
   "metadata": {},
   "outputs": [
    {
     "data": {
      "text/plain": [
       "0       6197\n",
       "1        997\n",
       "2        577\n",
       "3       1151\n",
       "4         27\n",
       "       ...  \n",
       "190    20074\n",
       "191    15048\n",
       "192    21475\n",
       "193    12146\n",
       "194    48582\n",
       "Name: kilometraje, Length: 195, dtype: object"
      ]
     },
     "execution_count": 9,
     "metadata": {},
     "output_type": "execute_result"
    }
   ],
   "source": [
    "coches_pedro['kilometraje'] = coches_pedro['kilometraje'].str.replace('.', '', regex=False)\n",
    "coches_pedro['kilometraje']"
   ]
  },
  {
   "cell_type": "code",
   "execution_count": 10,
   "metadata": {},
   "outputs": [
    {
     "data": {
      "text/plain": [
       "modelo          0\n",
       "kilometraje    55\n",
       "precio          0\n",
       "color           0\n",
       "año             0\n",
       "pais            0\n",
       "dtype: int64"
      ]
     },
     "execution_count": 10,
     "metadata": {},
     "output_type": "execute_result"
    }
   ],
   "source": [
    "coches_pedro.isna().sum()"
   ]
  },
  {
   "cell_type": "code",
   "execution_count": 11,
   "metadata": {},
   "outputs": [
    {
     "data": {
      "text/plain": [
       "modelo         object\n",
       "kilometraje     int64\n",
       "precio         object\n",
       "color          object\n",
       "año             int64\n",
       "pais           object\n",
       "dtype: object"
      ]
     },
     "execution_count": 11,
     "metadata": {},
     "output_type": "execute_result"
    }
   ],
   "source": [
    "coches_pedro['kilometraje'] = coches_pedro['kilometraje'].fillna(0).astype(int)\n",
    "coches_pedro.dtypes"
   ]
  },
  {
   "cell_type": "code",
   "execution_count": 12,
   "metadata": {},
   "outputs": [],
   "source": [
    "for i in range(len(coches_pedro['precio'])):\n",
    "    serie=coches_pedro['precio'][i].split()\n",
    "    coches_pedro['precio'][i] = serie[0]\n",
    "\n",
    "    # print(serie, coches_pedro['precio'][i])"
   ]
  },
  {
   "cell_type": "code",
   "execution_count": 13,
   "metadata": {},
   "outputs": [],
   "source": [
    "coches_pedro['precio'] = coches_pedro['precio'].str.replace('.', '', regex=False)"
   ]
  },
  {
   "cell_type": "code",
   "execution_count": 14,
   "metadata": {},
   "outputs": [
    {
     "data": {
      "text/plain": [
       "modelo         object\n",
       "kilometraje     int64\n",
       "precio          int64\n",
       "color          object\n",
       "año             int64\n",
       "pais           object\n",
       "dtype: object"
      ]
     },
     "execution_count": 14,
     "metadata": {},
     "output_type": "execute_result"
    }
   ],
   "source": [
    "coches_pedro['precio'] = coches_pedro['precio'].astype(int)\n",
    "coches_pedro.dtypes"
   ]
  },
  {
   "cell_type": "code",
   "execution_count": 15,
   "metadata": {},
   "outputs": [
    {
     "data": {
      "text/plain": [
       "color\n",
       "Color Blanco Perla Multicapas     38\n",
       "Color Negro Sólido                29\n",
       "Pintura Plateado Mercurio         24\n",
       "Azul Oscuro Metalizado            22\n",
       "Blanco Perla Multicapas           20\n",
       "Pintura en color Gris Sigilo      15\n",
       "Pintura Rojo Cereza Medianoche    12\n",
       "Negro Sólido                      11\n",
       "Color Plateado Lunar               5\n",
       "Color Multicapas Rojo              5\n",
       "Plata Medianoche Metalizado        4\n",
       "Pintura en color Ultra Rojo        3\n",
       "Ultra Rojo                         2\n",
       "Pintura negra sólida               2\n",
       "Metalizada plateada                1\n",
       "Metalizada negra obsidiana         1\n",
       "Metalizada azul profundo           1\n",
       "Name: count, dtype: int64"
      ]
     },
     "execution_count": 15,
     "metadata": {},
     "output_type": "execute_result"
    }
   ],
   "source": [
    "coches_pedro['color'].value_counts()"
   ]
  },
  {
   "cell_type": "code",
   "execution_count": 16,
   "metadata": {},
   "outputs": [],
   "source": [
    "colores = ['blanco', 'azul', 'plateado', 'plateada', 'negro','gris', 'plata', 'rojo', 'negra']"
   ]
  },
  {
   "cell_type": "code",
   "execution_count": 17,
   "metadata": {},
   "outputs": [],
   "source": [
    "for i in range(len(coches_pedro['color'])):\n",
    "    serie = coches_pedro['color'][i].split()\n",
    "    # print(serie)\n",
    "    for dato in serie:\n",
    "        if dato.lower() in (colores):\n",
    "            # print(dato.lower())\n",
    "            if dato.lower() == 'plateado':\n",
    "                coches_pedro['color'][i] = 'plata'\n",
    "            elif dato.lower() == 'plateada':\n",
    "                coches_pedro['color'][i] = 'plata'\n",
    "            elif dato.lower() == 'negra':\n",
    "                coches_pedro['color'][i] = 'negro'\n",
    "            else:\n",
    "                coches_pedro['color'][i] = dato.lower()"
   ]
  },
  {
   "cell_type": "code",
   "execution_count": 18,
   "metadata": {},
   "outputs": [
    {
     "data": {
      "text/plain": [
       "color\n",
       "blanco    58\n",
       "negro     43\n",
       "plata     34\n",
       "azul      23\n",
       "rojo      22\n",
       "gris      15\n",
       "Name: count, dtype: int64"
      ]
     },
     "execution_count": 18,
     "metadata": {},
     "output_type": "execute_result"
    }
   ],
   "source": [
    "coches_pedro['color'].value_counts()"
   ]
  },
  {
   "cell_type": "code",
   "execution_count": 19,
   "metadata": {},
   "outputs": [
    {
     "data": {
      "text/plain": [
       "modelo         object\n",
       "kilometraje     int64\n",
       "precio          int64\n",
       "color          object\n",
       "año             int64\n",
       "pais           object\n",
       "dtype: object"
      ]
     },
     "execution_count": 19,
     "metadata": {},
     "output_type": "execute_result"
    }
   ],
   "source": [
    "coches_pedro.dtypes"
   ]
  },
  {
   "cell_type": "code",
   "execution_count": 20,
   "metadata": {},
   "outputs": [
    {
     "data": {
      "text/plain": [
       "pais\n",
       "España    195\n",
       "Name: count, dtype: int64"
      ]
     },
     "execution_count": 20,
     "metadata": {},
     "output_type": "execute_result"
    }
   ],
   "source": [
    "coches_pedro['pais'].value_counts()"
   ]
  },
  {
   "cell_type": "code",
   "execution_count": 21,
   "metadata": {},
   "outputs": [],
   "source": [
    "path=\"C:/Users/galla/Dropbox/PC/Documents/1 Pedro G Gallardo/Master IA y Big Data/Casa/proyecto tesla/ProyectoTesla/data/data_prepared\"\n",
    "os.chdir(path)"
   ]
  },
  {
   "cell_type": "code",
   "execution_count": 22,
   "metadata": {},
   "outputs": [],
   "source": [
    "\n",
    "coches_pedro.to_csv('tesla_prepared.csv', index=False, encoding='utf-8-sig', sep=';')"
   ]
  },
  {
   "cell_type": "code",
   "execution_count": null,
   "metadata": {},
   "outputs": [],
   "source": []
  }
 ],
 "metadata": {
  "kernelspec": {
   "display_name": "iabd_scraping_env",
   "language": "python",
   "name": "python3"
  },
  "language_info": {
   "codemirror_mode": {
    "name": "ipython",
    "version": 3
   },
   "file_extension": ".py",
   "mimetype": "text/x-python",
   "name": "python",
   "nbconvert_exporter": "python",
   "pygments_lexer": "ipython3",
   "version": "3.11.10"
  }
 },
 "nbformat": 4,
 "nbformat_minor": 2
}
