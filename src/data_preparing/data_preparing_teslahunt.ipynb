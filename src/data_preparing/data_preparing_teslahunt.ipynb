{
 "cells": [
  {
   "cell_type": "code",
   "execution_count": 1,
   "metadata": {},
   "outputs": [],
   "source": [
    "import pandas as pd\n",
    "import os\n",
    "\n",
    "# Ignorar todos los warnings\n",
    "import warnings\n",
    "warnings.filterwarnings(\"ignore\")"
   ]
  },
  {
   "cell_type": "code",
   "execution_count": 4,
   "metadata": {},
   "outputs": [
    {
     "data": {
      "text/html": [
       "<div>\n",
       "<style scoped>\n",
       "    .dataframe tbody tr th:only-of-type {\n",
       "        vertical-align: middle;\n",
       "    }\n",
       "\n",
       "    .dataframe tbody tr th {\n",
       "        vertical-align: top;\n",
       "    }\n",
       "\n",
       "    .dataframe thead th {\n",
       "        text-align: right;\n",
       "    }\n",
       "</style>\n",
       "<table border=\"1\" class=\"dataframe\">\n",
       "  <thead>\n",
       "    <tr style=\"text-align: right;\">\n",
       "      <th></th>\n",
       "      <th>modelo</th>\n",
       "      <th>precio</th>\n",
       "      <th>matriculacion</th>\n",
       "      <th>kilometraje</th>\n",
       "      <th>color</th>\n",
       "      <th>pais</th>\n",
       "    </tr>\n",
       "  </thead>\n",
       "  <tbody>\n",
       "    <tr>\n",
       "      <th>0</th>\n",
       "      <td>Tesla Model 3</td>\n",
       "      <td>33500</td>\n",
       "      <td>2023</td>\n",
       "      <td>39315</td>\n",
       "      <td>blanco</td>\n",
       "      <td>Spain</td>\n",
       "    </tr>\n",
       "    <tr>\n",
       "      <th>1</th>\n",
       "      <td>Tesla Model 3</td>\n",
       "      <td>36000</td>\n",
       "      <td>2024</td>\n",
       "      <td>1817</td>\n",
       "      <td>blanco</td>\n",
       "      <td>Spain</td>\n",
       "    </tr>\n",
       "    <tr>\n",
       "      <th>2</th>\n",
       "      <td>Tesla Model 3</td>\n",
       "      <td>37000</td>\n",
       "      <td>2024</td>\n",
       "      <td>676</td>\n",
       "      <td>blanco</td>\n",
       "      <td>Spain</td>\n",
       "    </tr>\n",
       "    <tr>\n",
       "      <th>3</th>\n",
       "      <td>Tesla Model 3</td>\n",
       "      <td>37000</td>\n",
       "      <td>2024</td>\n",
       "      <td>728</td>\n",
       "      <td>blanco</td>\n",
       "      <td>Spain</td>\n",
       "    </tr>\n",
       "    <tr>\n",
       "      <th>4</th>\n",
       "      <td>Tesla Model 3 Long Range RWD</td>\n",
       "      <td>41470</td>\n",
       "      <td>2025</td>\n",
       "      <td>10</td>\n",
       "      <td>blanco</td>\n",
       "      <td>Spain</td>\n",
       "    </tr>\n",
       "    <tr>\n",
       "      <th>...</th>\n",
       "      <td>...</td>\n",
       "      <td>...</td>\n",
       "      <td>...</td>\n",
       "      <td>...</td>\n",
       "      <td>...</td>\n",
       "      <td>...</td>\n",
       "    </tr>\n",
       "    <tr>\n",
       "      <th>523</th>\n",
       "      <td>Tesla Model 3 Performance</td>\n",
       "      <td>58790</td>\n",
       "      <td>2024</td>\n",
       "      <td>0</td>\n",
       "      <td>gris</td>\n",
       "      <td>France</td>\n",
       "    </tr>\n",
       "    <tr>\n",
       "      <th>524</th>\n",
       "      <td>Tesla Model X</td>\n",
       "      <td>112790</td>\n",
       "      <td>2024</td>\n",
       "      <td>15</td>\n",
       "      <td>gris</td>\n",
       "      <td>France</td>\n",
       "    </tr>\n",
       "    <tr>\n",
       "      <th>525</th>\n",
       "      <td>Tesla Model S Plaid</td>\n",
       "      <td>115680</td>\n",
       "      <td>2024</td>\n",
       "      <td>26</td>\n",
       "      <td>gris</td>\n",
       "      <td>France</td>\n",
       "    </tr>\n",
       "    <tr>\n",
       "      <th>526</th>\n",
       "      <td>Tesla Model X Plaid</td>\n",
       "      <td>117590</td>\n",
       "      <td>2024</td>\n",
       "      <td>20</td>\n",
       "      <td>gris</td>\n",
       "      <td>France</td>\n",
       "    </tr>\n",
       "    <tr>\n",
       "      <th>527</th>\n",
       "      <td>Tesla Model X Plaid</td>\n",
       "      <td>126890</td>\n",
       "      <td>2024</td>\n",
       "      <td>20</td>\n",
       "      <td>gris</td>\n",
       "      <td>France</td>\n",
       "    </tr>\n",
       "  </tbody>\n",
       "</table>\n",
       "<p>528 rows × 6 columns</p>\n",
       "</div>"
      ],
      "text/plain": [
       "                           modelo  precio  matriculacion  kilometraje   color  \\\n",
       "0                   Tesla Model 3   33500           2023        39315  blanco   \n",
       "1                   Tesla Model 3   36000           2024         1817  blanco   \n",
       "2                   Tesla Model 3   37000           2024          676  blanco   \n",
       "3                   Tesla Model 3   37000           2024          728  blanco   \n",
       "4    Tesla Model 3 Long Range RWD   41470           2025           10  blanco   \n",
       "..                            ...     ...            ...          ...     ...   \n",
       "523     Tesla Model 3 Performance   58790           2024            0    gris   \n",
       "524                 Tesla Model X  112790           2024           15    gris   \n",
       "525           Tesla Model S Plaid  115680           2024           26    gris   \n",
       "526           Tesla Model X Plaid  117590           2024           20    gris   \n",
       "527           Tesla Model X Plaid  126890           2024           20    gris   \n",
       "\n",
       "       pais  \n",
       "0     Spain  \n",
       "1     Spain  \n",
       "2     Spain  \n",
       "3     Spain  \n",
       "4     Spain  \n",
       "..      ...  \n",
       "523  France  \n",
       "524  France  \n",
       "525  France  \n",
       "526  France  \n",
       "527  France  \n",
       "\n",
       "[528 rows x 6 columns]"
      ]
     },
     "execution_count": 4,
     "metadata": {},
     "output_type": "execute_result"
    }
   ],
   "source": [
    "path=\"C:/Users/galla/Dropbox/PC/Documents/1 Pedro G Gallardo/Master IA y Big Data/Casa/proyecto tesla/ProyectoTesla/data/raw/teslahunt\"\n",
    "os.chdir(path)\n",
    "coches_raul = pd.read_csv('coches_raul.csv', sep=',')\n",
    "coches_raul"
   ]
  },
  {
   "cell_type": "code",
   "execution_count": 6,
   "metadata": {},
   "outputs": [],
   "source": [
    "coches_raul.rename(columns={'matriculacion': 'año'}, inplace=True)"
   ]
  },
  {
   "cell_type": "code",
   "execution_count": 5,
   "metadata": {},
   "outputs": [
    {
     "data": {
      "text/plain": [
       "modelo\n",
       "Tesla Model 3 Long Range AWD         103\n",
       "Tesla Model Y Long Range AWD          78\n",
       "Tesla Model 3                         71\n",
       "Tesla Model 3 Performance             51\n",
       "Tesla Model X                         36\n",
       "Tesla Model Y Performance             33\n",
       "Tesla Model Y Standard Range          31\n",
       "Tesla Model Y Long Range RWD          25\n",
       "Tesla Model S                         24\n",
       "Tesla Model X Plaid                   15\n",
       "Tesla Model S Plaid                   15\n",
       "Tesla Model 3 Long Range RWD          12\n",
       "Tesla Model X 100D                     7\n",
       "Tesla Model 3 Standard Range Plus      7\n",
       "Tesla Model S Long Range               4\n",
       "Tesla Model X Long Range               4\n",
       "Tesla Model S 75D                      3\n",
       "Tesla Model X P100D                    2\n",
       "Tesla Model X Long Range Plus          2\n",
       "Tesla Model S 100D                     2\n",
       "Tesla Model S Performance              2\n",
       "Tesla Model X Performance              1\n",
       "Name: count, dtype: int64"
      ]
     },
     "execution_count": 5,
     "metadata": {},
     "output_type": "execute_result"
    }
   ],
   "source": [
    "coches_raul['modelo'].value_counts()"
   ]
  },
  {
   "cell_type": "code",
   "execution_count": 7,
   "metadata": {},
   "outputs": [
    {
     "data": {
      "text/plain": [
       "modelo\n",
       "Model 3    244\n",
       "Model Y    167\n",
       "Model X     67\n",
       "Model S     50\n",
       "Name: count, dtype: int64"
      ]
     },
     "execution_count": 7,
     "metadata": {},
     "output_type": "execute_result"
    }
   ],
   "source": [
    "for i in range(len(coches_raul['modelo'])):\n",
    "    serie=coches_raul['modelo'][i].split()\n",
    "    coches_raul['modelo'][i] = serie[1] + ' ' + serie[2]\n",
    "\n",
    "    # print(serie, coches_raul['modelo'][i])\n",
    "\n",
    "coches_raul['modelo'].value_counts()"
   ]
  },
  {
   "cell_type": "code",
   "execution_count": 8,
   "metadata": {},
   "outputs": [
    {
     "data": {
      "text/plain": [
       "modelo         object\n",
       "precio          int64\n",
       "año             int64\n",
       "kilometraje     int64\n",
       "color          object\n",
       "pais           object\n",
       "dtype: object"
      ]
     },
     "execution_count": 8,
     "metadata": {},
     "output_type": "execute_result"
    }
   ],
   "source": [
    "coches_raul.dtypes"
   ]
  },
  {
   "cell_type": "code",
   "execution_count": 9,
   "metadata": {},
   "outputs": [
    {
     "data": {
      "text/plain": [
       "color\n",
       "blanco    175\n",
       "negro     137\n",
       "azul       95\n",
       "rojo       61\n",
       "plata      30\n",
       "gris       30\n",
       "Name: count, dtype: int64"
      ]
     },
     "execution_count": 9,
     "metadata": {},
     "output_type": "execute_result"
    }
   ],
   "source": [
    "coches_raul['color'].value_counts()"
   ]
  },
  {
   "cell_type": "code",
   "execution_count": 10,
   "metadata": {},
   "outputs": [
    {
     "data": {
      "text/plain": [
       "pais\n",
       "France      280\n",
       "Spain       151\n",
       "Portugal     97\n",
       "Name: count, dtype: int64"
      ]
     },
     "execution_count": 10,
     "metadata": {},
     "output_type": "execute_result"
    }
   ],
   "source": [
    "coches_raul['pais'].value_counts()"
   ]
  },
  {
   "cell_type": "code",
   "execution_count": 11,
   "metadata": {},
   "outputs": [
    {
     "data": {
      "text/plain": [
       "pais\n",
       "Francia     280\n",
       "España      151\n",
       "Portugal     97\n",
       "Name: count, dtype: int64"
      ]
     },
     "execution_count": 11,
     "metadata": {},
     "output_type": "execute_result"
    }
   ],
   "source": [
    "for i in range(len(coches_raul['pais'])):\n",
    "    if coches_raul['pais'][i]=='Spain':\n",
    "        coches_raul['pais'][i]='España'\n",
    "    elif coches_raul['pais'][i]=='France':\n",
    "        coches_raul['pais'][i]='Francia'\n",
    "    else:\n",
    "        coches_raul['pais'][i]='Portugal'\n",
    "\n",
    "coches_raul['pais'].value_counts()"
   ]
  },
  {
   "cell_type": "code",
   "execution_count": 13,
   "metadata": {},
   "outputs": [],
   "source": [
    "path=\"C:/Users/galla/Dropbox/PC/Documents/1 Pedro G Gallardo/Master IA y Big Data/Casa/proyecto tesla/ProyectoTesla/data/data_prepared\"\n",
    "os.chdir(path)"
   ]
  },
  {
   "cell_type": "code",
   "execution_count": 14,
   "metadata": {},
   "outputs": [],
   "source": [
    "coches_raul.to_csv('teslahunt_prepared.csv', index=False, encoding='utf-8-sig', sep=';')"
   ]
  },
  {
   "cell_type": "code",
   "execution_count": null,
   "metadata": {},
   "outputs": [],
   "source": []
  }
 ],
 "metadata": {
  "kernelspec": {
   "display_name": "iabd_scraping_env",
   "language": "python",
   "name": "python3"
  },
  "language_info": {
   "codemirror_mode": {
    "name": "ipython",
    "version": 3
   },
   "file_extension": ".py",
   "mimetype": "text/x-python",
   "name": "python",
   "nbconvert_exporter": "python",
   "pygments_lexer": "ipython3",
   "version": "3.11.10"
  }
 },
 "nbformat": 4,
 "nbformat_minor": 2
}
