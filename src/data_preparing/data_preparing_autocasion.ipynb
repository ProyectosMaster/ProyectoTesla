{
 "cells": [
  {
   "cell_type": "code",
   "execution_count": 1,
   "metadata": {},
   "outputs": [],
   "source": [
    "import pandas as pd\n",
    "import os\n",
    "\n",
    "# Ignorar todos los warnings\n",
    "import warnings\n",
    "warnings.filterwarnings(\"ignore\")"
   ]
  },
  {
   "cell_type": "code",
   "execution_count": 2,
   "metadata": {},
   "outputs": [],
   "source": [
    "path=\"C:/Users/galla/Dropbox/PC/Documents/1 Pedro G Gallardo/Master IA y Big Data/Casa/proyecto tesla/ProyectoTesla/data/raw/autocasion\"\n",
    "os.chdir(path)"
   ]
  },
  {
   "cell_type": "code",
   "execution_count": 3,
   "metadata": {},
   "outputs": [
    {
     "data": {
      "text/html": [
       "<div>\n",
       "<style scoped>\n",
       "    .dataframe tbody tr th:only-of-type {\n",
       "        vertical-align: middle;\n",
       "    }\n",
       "\n",
       "    .dataframe tbody tr th {\n",
       "        vertical-align: top;\n",
       "    }\n",
       "\n",
       "    .dataframe thead th {\n",
       "        text-align: right;\n",
       "    }\n",
       "</style>\n",
       "<table border=\"1\" class=\"dataframe\">\n",
       "  <thead>\n",
       "    <tr style=\"text-align: right;\">\n",
       "      <th></th>\n",
       "      <th>modelo</th>\n",
       "      <th>precio</th>\n",
       "      <th>kilometraje</th>\n",
       "      <th>matriculacion</th>\n",
       "      <th>motor</th>\n",
       "      <th>color</th>\n",
       "    </tr>\n",
       "  </thead>\n",
       "  <tbody>\n",
       "    <tr>\n",
       "      <th>0</th>\n",
       "      <td>Model 3 Long-Range Dual Motor AWD</td>\n",
       "      <td>25.990 €</td>\n",
       "      <td>63.000</td>\n",
       "      <td>2022</td>\n",
       "      <td>Eléctrico</td>\n",
       "      <td>azul</td>\n",
       "    </tr>\n",
       "    <tr>\n",
       "      <th>1</th>\n",
       "      <td>Model 3 Long-Range Dual Motor AWD</td>\n",
       "      <td>28.490 €</td>\n",
       "      <td>47.479</td>\n",
       "      <td>2020</td>\n",
       "      <td>Eléctrico</td>\n",
       "      <td>azul</td>\n",
       "    </tr>\n",
       "    <tr>\n",
       "      <th>2</th>\n",
       "      <td>Model 3 Long-Range Dual Motor AWD</td>\n",
       "      <td>25.940 €</td>\n",
       "      <td>124.839</td>\n",
       "      <td>2019</td>\n",
       "      <td>Eléctrico</td>\n",
       "      <td>azul</td>\n",
       "    </tr>\n",
       "    <tr>\n",
       "      <th>3</th>\n",
       "      <td>Model 3 Long-Range Dual Motor AWD</td>\n",
       "      <td>38.890 €</td>\n",
       "      <td>89.831</td>\n",
       "      <td>2019</td>\n",
       "      <td>Eléctrico</td>\n",
       "      <td>azul</td>\n",
       "    </tr>\n",
       "    <tr>\n",
       "      <th>4</th>\n",
       "      <td>Model 3 Long-Range Dual Motor AWD</td>\n",
       "      <td>29.700 €</td>\n",
       "      <td>21.318</td>\n",
       "      <td>2020</td>\n",
       "      <td>Eléctrico</td>\n",
       "      <td>azul</td>\n",
       "    </tr>\n",
       "    <tr>\n",
       "      <th>...</th>\n",
       "      <td>...</td>\n",
       "      <td>...</td>\n",
       "      <td>...</td>\n",
       "      <td>...</td>\n",
       "      <td>...</td>\n",
       "      <td>...</td>\n",
       "    </tr>\n",
       "    <tr>\n",
       "      <th>342</th>\n",
       "      <td>Model 3 Long-Range Dual Motor Performance AWD</td>\n",
       "      <td>37.990 €</td>\n",
       "      <td>Eléctrico</td>\n",
       "      <td>Km0</td>\n",
       "      <td>2023</td>\n",
       "      <td>plata</td>\n",
       "    </tr>\n",
       "    <tr>\n",
       "      <th>343</th>\n",
       "      <td>Model 3 Long-Range Dual Motor Performance AWD</td>\n",
       "      <td>29.990 €</td>\n",
       "      <td>123.000</td>\n",
       "      <td>2019</td>\n",
       "      <td>Eléctrico</td>\n",
       "      <td>rojo</td>\n",
       "    </tr>\n",
       "    <tr>\n",
       "      <th>344</th>\n",
       "      <td>Model 3 Long-Range Dual Motor Performance AWD</td>\n",
       "      <td>33.990 €</td>\n",
       "      <td>74.910</td>\n",
       "      <td>2021</td>\n",
       "      <td>Eléctrico</td>\n",
       "      <td>rojo</td>\n",
       "    </tr>\n",
       "    <tr>\n",
       "      <th>345</th>\n",
       "      <td>Model 3 Long-Range Dual Motor Performance AWD</td>\n",
       "      <td>27.900 €</td>\n",
       "      <td>125.000</td>\n",
       "      <td>2019</td>\n",
       "      <td>Eléctrico</td>\n",
       "      <td>rojo</td>\n",
       "    </tr>\n",
       "    <tr>\n",
       "      <th>346</th>\n",
       "      <td>Model 3 Long-Range Dual Motor Performance AWD</td>\n",
       "      <td>29.990 €</td>\n",
       "      <td>123.000</td>\n",
       "      <td>2019</td>\n",
       "      <td>Eléctrico</td>\n",
       "      <td>rojo</td>\n",
       "    </tr>\n",
       "  </tbody>\n",
       "</table>\n",
       "<p>347 rows × 6 columns</p>\n",
       "</div>"
      ],
      "text/plain": [
       "                                            modelo    precio kilometraje  \\\n",
       "0                Model 3 Long-Range Dual Motor AWD  25.990 €      63.000   \n",
       "1                Model 3 Long-Range Dual Motor AWD  28.490 €      47.479   \n",
       "2                Model 3 Long-Range Dual Motor AWD  25.940 €     124.839   \n",
       "3                Model 3 Long-Range Dual Motor AWD  38.890 €      89.831   \n",
       "4                Model 3 Long-Range Dual Motor AWD  29.700 €      21.318   \n",
       "..                                             ...       ...         ...   \n",
       "342  Model 3 Long-Range Dual Motor Performance AWD  37.990 €   Eléctrico   \n",
       "343  Model 3 Long-Range Dual Motor Performance AWD  29.990 €     123.000   \n",
       "344  Model 3 Long-Range Dual Motor Performance AWD  33.990 €      74.910   \n",
       "345  Model 3 Long-Range Dual Motor Performance AWD  27.900 €     125.000   \n",
       "346  Model 3 Long-Range Dual Motor Performance AWD  29.990 €     123.000   \n",
       "\n",
       "    matriculacion      motor  color  \n",
       "0            2022  Eléctrico   azul  \n",
       "1            2020  Eléctrico   azul  \n",
       "2            2019  Eléctrico   azul  \n",
       "3            2019  Eléctrico   azul  \n",
       "4            2020  Eléctrico   azul  \n",
       "..            ...        ...    ...  \n",
       "342           Km0       2023  plata  \n",
       "343          2019  Eléctrico   rojo  \n",
       "344          2021  Eléctrico   rojo  \n",
       "345          2019  Eléctrico   rojo  \n",
       "346          2019  Eléctrico   rojo  \n",
       "\n",
       "[347 rows x 6 columns]"
      ]
     },
     "execution_count": 3,
     "metadata": {},
     "output_type": "execute_result"
    }
   ],
   "source": [
    "coches_ruben=pd.read_csv('coches_ruben.csv', sep=',', encoding='utf-8')\n",
    "coches_ruben"
   ]
  },
  {
   "cell_type": "code",
   "execution_count": 4,
   "metadata": {},
   "outputs": [],
   "source": [
    "coches_ruben.drop(columns=['motor'], inplace=True)"
   ]
  },
  {
   "cell_type": "code",
   "execution_count": 5,
   "metadata": {},
   "outputs": [
    {
     "data": {
      "text/html": [
       "<div>\n",
       "<style scoped>\n",
       "    .dataframe tbody tr th:only-of-type {\n",
       "        vertical-align: middle;\n",
       "    }\n",
       "\n",
       "    .dataframe tbody tr th {\n",
       "        vertical-align: top;\n",
       "    }\n",
       "\n",
       "    .dataframe thead th {\n",
       "        text-align: right;\n",
       "    }\n",
       "</style>\n",
       "<table border=\"1\" class=\"dataframe\">\n",
       "  <thead>\n",
       "    <tr style=\"text-align: right;\">\n",
       "      <th></th>\n",
       "      <th>modelo</th>\n",
       "      <th>precio</th>\n",
       "      <th>kilometraje</th>\n",
       "      <th>año</th>\n",
       "      <th>color</th>\n",
       "      <th>pais</th>\n",
       "    </tr>\n",
       "  </thead>\n",
       "  <tbody>\n",
       "    <tr>\n",
       "      <th>0</th>\n",
       "      <td>Model 3 Long-Range Dual Motor AWD</td>\n",
       "      <td>25.990 €</td>\n",
       "      <td>63.000</td>\n",
       "      <td>2022</td>\n",
       "      <td>azul</td>\n",
       "      <td>España</td>\n",
       "    </tr>\n",
       "    <tr>\n",
       "      <th>1</th>\n",
       "      <td>Model 3 Long-Range Dual Motor AWD</td>\n",
       "      <td>28.490 €</td>\n",
       "      <td>47.479</td>\n",
       "      <td>2020</td>\n",
       "      <td>azul</td>\n",
       "      <td>España</td>\n",
       "    </tr>\n",
       "    <tr>\n",
       "      <th>2</th>\n",
       "      <td>Model 3 Long-Range Dual Motor AWD</td>\n",
       "      <td>25.940 €</td>\n",
       "      <td>124.839</td>\n",
       "      <td>2019</td>\n",
       "      <td>azul</td>\n",
       "      <td>España</td>\n",
       "    </tr>\n",
       "    <tr>\n",
       "      <th>3</th>\n",
       "      <td>Model 3 Long-Range Dual Motor AWD</td>\n",
       "      <td>38.890 €</td>\n",
       "      <td>89.831</td>\n",
       "      <td>2019</td>\n",
       "      <td>azul</td>\n",
       "      <td>España</td>\n",
       "    </tr>\n",
       "    <tr>\n",
       "      <th>4</th>\n",
       "      <td>Model 3 Long-Range Dual Motor AWD</td>\n",
       "      <td>29.700 €</td>\n",
       "      <td>21.318</td>\n",
       "      <td>2020</td>\n",
       "      <td>azul</td>\n",
       "      <td>España</td>\n",
       "    </tr>\n",
       "    <tr>\n",
       "      <th>...</th>\n",
       "      <td>...</td>\n",
       "      <td>...</td>\n",
       "      <td>...</td>\n",
       "      <td>...</td>\n",
       "      <td>...</td>\n",
       "      <td>...</td>\n",
       "    </tr>\n",
       "    <tr>\n",
       "      <th>342</th>\n",
       "      <td>Model 3 Long-Range Dual Motor Performance AWD</td>\n",
       "      <td>37.990 €</td>\n",
       "      <td>Eléctrico</td>\n",
       "      <td>Km0</td>\n",
       "      <td>plata</td>\n",
       "      <td>España</td>\n",
       "    </tr>\n",
       "    <tr>\n",
       "      <th>343</th>\n",
       "      <td>Model 3 Long-Range Dual Motor Performance AWD</td>\n",
       "      <td>29.990 €</td>\n",
       "      <td>123.000</td>\n",
       "      <td>2019</td>\n",
       "      <td>rojo</td>\n",
       "      <td>España</td>\n",
       "    </tr>\n",
       "    <tr>\n",
       "      <th>344</th>\n",
       "      <td>Model 3 Long-Range Dual Motor Performance AWD</td>\n",
       "      <td>33.990 €</td>\n",
       "      <td>74.910</td>\n",
       "      <td>2021</td>\n",
       "      <td>rojo</td>\n",
       "      <td>España</td>\n",
       "    </tr>\n",
       "    <tr>\n",
       "      <th>345</th>\n",
       "      <td>Model 3 Long-Range Dual Motor Performance AWD</td>\n",
       "      <td>27.900 €</td>\n",
       "      <td>125.000</td>\n",
       "      <td>2019</td>\n",
       "      <td>rojo</td>\n",
       "      <td>España</td>\n",
       "    </tr>\n",
       "    <tr>\n",
       "      <th>346</th>\n",
       "      <td>Model 3 Long-Range Dual Motor Performance AWD</td>\n",
       "      <td>29.990 €</td>\n",
       "      <td>123.000</td>\n",
       "      <td>2019</td>\n",
       "      <td>rojo</td>\n",
       "      <td>España</td>\n",
       "    </tr>\n",
       "  </tbody>\n",
       "</table>\n",
       "<p>347 rows × 6 columns</p>\n",
       "</div>"
      ],
      "text/plain": [
       "                                            modelo    precio kilometraje  \\\n",
       "0                Model 3 Long-Range Dual Motor AWD  25.990 €      63.000   \n",
       "1                Model 3 Long-Range Dual Motor AWD  28.490 €      47.479   \n",
       "2                Model 3 Long-Range Dual Motor AWD  25.940 €     124.839   \n",
       "3                Model 3 Long-Range Dual Motor AWD  38.890 €      89.831   \n",
       "4                Model 3 Long-Range Dual Motor AWD  29.700 €      21.318   \n",
       "..                                             ...       ...         ...   \n",
       "342  Model 3 Long-Range Dual Motor Performance AWD  37.990 €   Eléctrico   \n",
       "343  Model 3 Long-Range Dual Motor Performance AWD  29.990 €     123.000   \n",
       "344  Model 3 Long-Range Dual Motor Performance AWD  33.990 €      74.910   \n",
       "345  Model 3 Long-Range Dual Motor Performance AWD  27.900 €     125.000   \n",
       "346  Model 3 Long-Range Dual Motor Performance AWD  29.990 €     123.000   \n",
       "\n",
       "      año  color    pais  \n",
       "0    2022   azul  España  \n",
       "1    2020   azul  España  \n",
       "2    2019   azul  España  \n",
       "3    2019   azul  España  \n",
       "4    2020   azul  España  \n",
       "..    ...    ...     ...  \n",
       "342   Km0  plata  España  \n",
       "343  2019   rojo  España  \n",
       "344  2021   rojo  España  \n",
       "345  2019   rojo  España  \n",
       "346  2019   rojo  España  \n",
       "\n",
       "[347 rows x 6 columns]"
      ]
     },
     "execution_count": 5,
     "metadata": {},
     "output_type": "execute_result"
    }
   ],
   "source": [
    "coches_ruben.rename(columns={'matriculacion': 'año'}, inplace=True)\n",
    "coches_ruben['pais']='España'\n",
    "coches_ruben"
   ]
  },
  {
   "cell_type": "code",
   "execution_count": 6,
   "metadata": {},
   "outputs": [],
   "source": [
    "coches_copy=coches_ruben.copy()"
   ]
  },
  {
   "cell_type": "code",
   "execution_count": 7,
   "metadata": {},
   "outputs": [],
   "source": [
    "for i in range(len(coches_ruben['modelo'])):\n",
    "    serie=coches_ruben['modelo'][i].split()\n",
    "    coches_ruben['modelo'][i] = serie[0] + ' ' + serie[1]\n",
    "\n",
    "    # print(serie, coches_ruben['modelo'][i])"
   ]
  },
  {
   "cell_type": "code",
   "execution_count": 8,
   "metadata": {},
   "outputs": [
    {
     "data": {
      "text/plain": [
       "modelo\n",
       "Model 3    237\n",
       "Model S     89\n",
       "Model X     21\n",
       "Name: count, dtype: int64"
      ]
     },
     "execution_count": 8,
     "metadata": {},
     "output_type": "execute_result"
    }
   ],
   "source": [
    "coches_ruben['modelo'].value_counts()"
   ]
  },
  {
   "cell_type": "code",
   "execution_count": 9,
   "metadata": {},
   "outputs": [],
   "source": [
    "coches_ruben['precio'][0].split()\n",
    "for i in range(len(coches_ruben['precio'])):\n",
    "    serie=coches_ruben['precio'][i].split()\n",
    "    coches_ruben['precio'][i] = serie[0]\n",
    "\n",
    "    # print(serie, coches_ruben['precio'][i])"
   ]
  },
  {
   "cell_type": "code",
   "execution_count": 10,
   "metadata": {},
   "outputs": [
    {
     "data": {
      "text/html": [
       "<div>\n",
       "<style scoped>\n",
       "    .dataframe tbody tr th:only-of-type {\n",
       "        vertical-align: middle;\n",
       "    }\n",
       "\n",
       "    .dataframe tbody tr th {\n",
       "        vertical-align: top;\n",
       "    }\n",
       "\n",
       "    .dataframe thead th {\n",
       "        text-align: right;\n",
       "    }\n",
       "</style>\n",
       "<table border=\"1\" class=\"dataframe\">\n",
       "  <thead>\n",
       "    <tr style=\"text-align: right;\">\n",
       "      <th></th>\n",
       "      <th>modelo</th>\n",
       "      <th>precio</th>\n",
       "      <th>kilometraje</th>\n",
       "      <th>año</th>\n",
       "      <th>color</th>\n",
       "      <th>pais</th>\n",
       "    </tr>\n",
       "  </thead>\n",
       "  <tbody>\n",
       "    <tr>\n",
       "      <th>0</th>\n",
       "      <td>Model 3</td>\n",
       "      <td>25.990</td>\n",
       "      <td>63.000</td>\n",
       "      <td>2022</td>\n",
       "      <td>azul</td>\n",
       "      <td>España</td>\n",
       "    </tr>\n",
       "    <tr>\n",
       "      <th>1</th>\n",
       "      <td>Model 3</td>\n",
       "      <td>28.490</td>\n",
       "      <td>47.479</td>\n",
       "      <td>2020</td>\n",
       "      <td>azul</td>\n",
       "      <td>España</td>\n",
       "    </tr>\n",
       "    <tr>\n",
       "      <th>2</th>\n",
       "      <td>Model 3</td>\n",
       "      <td>25.940</td>\n",
       "      <td>124.839</td>\n",
       "      <td>2019</td>\n",
       "      <td>azul</td>\n",
       "      <td>España</td>\n",
       "    </tr>\n",
       "    <tr>\n",
       "      <th>3</th>\n",
       "      <td>Model 3</td>\n",
       "      <td>38.890</td>\n",
       "      <td>89.831</td>\n",
       "      <td>2019</td>\n",
       "      <td>azul</td>\n",
       "      <td>España</td>\n",
       "    </tr>\n",
       "    <tr>\n",
       "      <th>4</th>\n",
       "      <td>Model 3</td>\n",
       "      <td>29.700</td>\n",
       "      <td>21.318</td>\n",
       "      <td>2020</td>\n",
       "      <td>azul</td>\n",
       "      <td>España</td>\n",
       "    </tr>\n",
       "    <tr>\n",
       "      <th>...</th>\n",
       "      <td>...</td>\n",
       "      <td>...</td>\n",
       "      <td>...</td>\n",
       "      <td>...</td>\n",
       "      <td>...</td>\n",
       "      <td>...</td>\n",
       "    </tr>\n",
       "    <tr>\n",
       "      <th>342</th>\n",
       "      <td>Model 3</td>\n",
       "      <td>37.990</td>\n",
       "      <td>Eléctrico</td>\n",
       "      <td>Km0</td>\n",
       "      <td>plata</td>\n",
       "      <td>España</td>\n",
       "    </tr>\n",
       "    <tr>\n",
       "      <th>343</th>\n",
       "      <td>Model 3</td>\n",
       "      <td>29.990</td>\n",
       "      <td>123.000</td>\n",
       "      <td>2019</td>\n",
       "      <td>rojo</td>\n",
       "      <td>España</td>\n",
       "    </tr>\n",
       "    <tr>\n",
       "      <th>344</th>\n",
       "      <td>Model 3</td>\n",
       "      <td>33.990</td>\n",
       "      <td>74.910</td>\n",
       "      <td>2021</td>\n",
       "      <td>rojo</td>\n",
       "      <td>España</td>\n",
       "    </tr>\n",
       "    <tr>\n",
       "      <th>345</th>\n",
       "      <td>Model 3</td>\n",
       "      <td>27.900</td>\n",
       "      <td>125.000</td>\n",
       "      <td>2019</td>\n",
       "      <td>rojo</td>\n",
       "      <td>España</td>\n",
       "    </tr>\n",
       "    <tr>\n",
       "      <th>346</th>\n",
       "      <td>Model 3</td>\n",
       "      <td>29.990</td>\n",
       "      <td>123.000</td>\n",
       "      <td>2019</td>\n",
       "      <td>rojo</td>\n",
       "      <td>España</td>\n",
       "    </tr>\n",
       "  </tbody>\n",
       "</table>\n",
       "<p>347 rows × 6 columns</p>\n",
       "</div>"
      ],
      "text/plain": [
       "      modelo  precio kilometraje   año  color    pais\n",
       "0    Model 3  25.990      63.000  2022   azul  España\n",
       "1    Model 3  28.490      47.479  2020   azul  España\n",
       "2    Model 3  25.940     124.839  2019   azul  España\n",
       "3    Model 3  38.890      89.831  2019   azul  España\n",
       "4    Model 3  29.700      21.318  2020   azul  España\n",
       "..       ...     ...         ...   ...    ...     ...\n",
       "342  Model 3  37.990   Eléctrico   Km0  plata  España\n",
       "343  Model 3  29.990     123.000  2019   rojo  España\n",
       "344  Model 3  33.990      74.910  2021   rojo  España\n",
       "345  Model 3  27.900     125.000  2019   rojo  España\n",
       "346  Model 3  29.990     123.000  2019   rojo  España\n",
       "\n",
       "[347 rows x 6 columns]"
      ]
     },
     "execution_count": 10,
     "metadata": {},
     "output_type": "execute_result"
    }
   ],
   "source": [
    "coches_ruben"
   ]
  },
  {
   "cell_type": "code",
   "execution_count": 11,
   "metadata": {},
   "outputs": [],
   "source": [
    "coches_ruben['precio'] = coches_ruben['precio'].str.replace('.', '', regex=False)"
   ]
  },
  {
   "cell_type": "code",
   "execution_count": 12,
   "metadata": {},
   "outputs": [
    {
     "data": {
      "text/plain": [
       "modelo         object\n",
       "precio          int64\n",
       "kilometraje    object\n",
       "año            object\n",
       "color          object\n",
       "pais           object\n",
       "dtype: object"
      ]
     },
     "execution_count": 12,
     "metadata": {},
     "output_type": "execute_result"
    }
   ],
   "source": [
    "coches_ruben['precio'] = coches_ruben['precio'].astype(int)\n",
    "coches_ruben.dtypes"
   ]
  },
  {
   "cell_type": "code",
   "execution_count": 13,
   "metadata": {},
   "outputs": [
    {
     "data": {
      "text/html": [
       "<div>\n",
       "<style scoped>\n",
       "    .dataframe tbody tr th:only-of-type {\n",
       "        vertical-align: middle;\n",
       "    }\n",
       "\n",
       "    .dataframe tbody tr th {\n",
       "        vertical-align: top;\n",
       "    }\n",
       "\n",
       "    .dataframe thead th {\n",
       "        text-align: right;\n",
       "    }\n",
       "</style>\n",
       "<table border=\"1\" class=\"dataframe\">\n",
       "  <thead>\n",
       "    <tr style=\"text-align: right;\">\n",
       "      <th></th>\n",
       "      <th>modelo</th>\n",
       "      <th>precio</th>\n",
       "      <th>kilometraje</th>\n",
       "      <th>año</th>\n",
       "      <th>color</th>\n",
       "      <th>pais</th>\n",
       "    </tr>\n",
       "  </thead>\n",
       "  <tbody>\n",
       "    <tr>\n",
       "      <th>225</th>\n",
       "      <td>Model 3</td>\n",
       "      <td>37990</td>\n",
       "      <td>Eléctrico</td>\n",
       "      <td>Km0</td>\n",
       "      <td>plata</td>\n",
       "      <td>España</td>\n",
       "    </tr>\n",
       "    <tr>\n",
       "      <th>342</th>\n",
       "      <td>Model 3</td>\n",
       "      <td>37990</td>\n",
       "      <td>Eléctrico</td>\n",
       "      <td>Km0</td>\n",
       "      <td>plata</td>\n",
       "      <td>España</td>\n",
       "    </tr>\n",
       "  </tbody>\n",
       "</table>\n",
       "</div>"
      ],
      "text/plain": [
       "      modelo  precio kilometraje  año  color    pais\n",
       "225  Model 3   37990   Eléctrico  Km0  plata  España\n",
       "342  Model 3   37990   Eléctrico  Km0  plata  España"
      ]
     },
     "execution_count": 13,
     "metadata": {},
     "output_type": "execute_result"
    }
   ],
   "source": [
    "coches_ruben[~(coches_ruben['kilometraje']!='Eléctrico')]"
   ]
  },
  {
   "cell_type": "code",
   "execution_count": 14,
   "metadata": {},
   "outputs": [
    {
     "data": {
      "text/html": [
       "<div>\n",
       "<style scoped>\n",
       "    .dataframe tbody tr th:only-of-type {\n",
       "        vertical-align: middle;\n",
       "    }\n",
       "\n",
       "    .dataframe tbody tr th {\n",
       "        vertical-align: top;\n",
       "    }\n",
       "\n",
       "    .dataframe thead th {\n",
       "        text-align: right;\n",
       "    }\n",
       "</style>\n",
       "<table border=\"1\" class=\"dataframe\">\n",
       "  <thead>\n",
       "    <tr style=\"text-align: right;\">\n",
       "      <th></th>\n",
       "      <th>modelo</th>\n",
       "      <th>precio</th>\n",
       "      <th>kilometraje</th>\n",
       "      <th>año</th>\n",
       "      <th>color</th>\n",
       "      <th>pais</th>\n",
       "    </tr>\n",
       "  </thead>\n",
       "  <tbody>\n",
       "    <tr>\n",
       "      <th>225</th>\n",
       "      <td>Model 3 Long-Range Dual Motor Performance AWD</td>\n",
       "      <td>37.990 €</td>\n",
       "      <td>Eléctrico</td>\n",
       "      <td>Km0</td>\n",
       "      <td>plata</td>\n",
       "      <td>España</td>\n",
       "    </tr>\n",
       "    <tr>\n",
       "      <th>342</th>\n",
       "      <td>Model 3 Long-Range Dual Motor Performance AWD</td>\n",
       "      <td>37.990 €</td>\n",
       "      <td>Eléctrico</td>\n",
       "      <td>Km0</td>\n",
       "      <td>plata</td>\n",
       "      <td>España</td>\n",
       "    </tr>\n",
       "  </tbody>\n",
       "</table>\n",
       "</div>"
      ],
      "text/plain": [
       "                                            modelo    precio kilometraje  año  \\\n",
       "225  Model 3 Long-Range Dual Motor Performance AWD  37.990 €   Eléctrico  Km0   \n",
       "342  Model 3 Long-Range Dual Motor Performance AWD  37.990 €   Eléctrico  Km0   \n",
       "\n",
       "     color    pais  \n",
       "225  plata  España  \n",
       "342  plata  España  "
      ]
     },
     "execution_count": 14,
     "metadata": {},
     "output_type": "execute_result"
    }
   ],
   "source": [
    "coches_copy[~(coches_copy['kilometraje']!='Eléctrico')]"
   ]
  },
  {
   "cell_type": "code",
   "execution_count": 15,
   "metadata": {},
   "outputs": [],
   "source": [
    "coches_ruben['kilometraje'][225] = 12\n",
    "coches_ruben['año'][225] = 2023\n",
    "coches_ruben.drop(index=342, inplace=True)"
   ]
  },
  {
   "cell_type": "code",
   "execution_count": 16,
   "metadata": {},
   "outputs": [],
   "source": [
    "coches_ruben['kilometraje'] = coches_ruben['kilometraje'].str.replace('.', '', regex=False)"
   ]
  },
  {
   "cell_type": "code",
   "execution_count": 17,
   "metadata": {},
   "outputs": [
    {
     "data": {
      "text/plain": [
       "modelo         0\n",
       "precio         0\n",
       "kilometraje    1\n",
       "año            0\n",
       "color          0\n",
       "pais           0\n",
       "dtype: int64"
      ]
     },
     "execution_count": 17,
     "metadata": {},
     "output_type": "execute_result"
    }
   ],
   "source": [
    "coches_ruben.isna().sum()"
   ]
  },
  {
   "cell_type": "code",
   "execution_count": 18,
   "metadata": {},
   "outputs": [
    {
     "data": {
      "text/plain": [
       "modelo         object\n",
       "precio          int64\n",
       "kilometraje     int64\n",
       "año            object\n",
       "color          object\n",
       "pais           object\n",
       "dtype: object"
      ]
     },
     "execution_count": 18,
     "metadata": {},
     "output_type": "execute_result"
    }
   ],
   "source": [
    "coches_ruben['kilometraje'] = coches_ruben['kilometraje'].fillna(0).astype(int)\n",
    "coches_ruben.dtypes"
   ]
  },
  {
   "cell_type": "code",
   "execution_count": 19,
   "metadata": {},
   "outputs": [
    {
     "data": {
      "text/plain": [
       "año\n",
       "2021    71\n",
       "2019    67\n",
       "2020    56\n",
       "2022    55\n",
       "2023    24\n",
       "2024    18\n",
       "2018    18\n",
       "2017    17\n",
       "2016     7\n",
       "2015     7\n",
       "2014     5\n",
       "2023     1\n",
       "Name: count, dtype: int64"
      ]
     },
     "execution_count": 19,
     "metadata": {},
     "output_type": "execute_result"
    }
   ],
   "source": [
    "coches_ruben['año'].value_counts()"
   ]
  },
  {
   "cell_type": "code",
   "execution_count": 20,
   "metadata": {},
   "outputs": [
    {
     "data": {
      "text/plain": [
       "modelo         object\n",
       "precio          int64\n",
       "kilometraje     int64\n",
       "año             int64\n",
       "color          object\n",
       "pais           object\n",
       "dtype: object"
      ]
     },
     "execution_count": 20,
     "metadata": {},
     "output_type": "execute_result"
    }
   ],
   "source": [
    "coches_ruben['año'] = coches_ruben['año'].astype(int)\n",
    "coches_ruben.dtypes"
   ]
  },
  {
   "cell_type": "code",
   "execution_count": 21,
   "metadata": {},
   "outputs": [
    {
     "data": {
      "text/plain": [
       "color\n",
       "blanco     113\n",
       "negro       69\n",
       "gris        64\n",
       "azul        51\n",
       "rojo        28\n",
       "marron       9\n",
       "granate      7\n",
       "plata        5\n",
       "Name: count, dtype: int64"
      ]
     },
     "execution_count": 21,
     "metadata": {},
     "output_type": "execute_result"
    }
   ],
   "source": [
    "coches_ruben['color'].value_counts()"
   ]
  },
  {
   "cell_type": "markdown",
   "metadata": {},
   "source": [
    "blanco, negro, plata, azul, rojo, gris, marron"
   ]
  },
  {
   "cell_type": "code",
   "execution_count": 22,
   "metadata": {},
   "outputs": [],
   "source": [
    "coches_ruben['color'] = coches_ruben['color'].replace('granate', 'rojo', regex=False)"
   ]
  },
  {
   "cell_type": "code",
   "execution_count": 23,
   "metadata": {},
   "outputs": [],
   "source": [
    "path=\"C:/Users/galla/Dropbox/PC/Documents/1 Pedro G Gallardo/Master IA y Big Data/Casa/proyecto tesla/ProyectoTesla/data/data_prepared\"\n",
    "os.chdir(path)"
   ]
  },
  {
   "cell_type": "code",
   "execution_count": 24,
   "metadata": {},
   "outputs": [],
   "source": [
    "coches_ruben.to_csv('autocasion_prepared.csv', index=False, encoding='utf-8-sig', sep=';')"
   ]
  },
  {
   "cell_type": "code",
   "execution_count": null,
   "metadata": {},
   "outputs": [],
   "source": []
  }
 ],
 "metadata": {
  "kernelspec": {
   "display_name": "iabd_scraping_env",
   "language": "python",
   "name": "python3"
  },
  "language_info": {
   "codemirror_mode": {
    "name": "ipython",
    "version": 3
   },
   "file_extension": ".py",
   "mimetype": "text/x-python",
   "name": "python",
   "nbconvert_exporter": "python",
   "pygments_lexer": "ipython3",
   "version": "3.11.10"
  }
 },
 "nbformat": 4,
 "nbformat_minor": 2
}
