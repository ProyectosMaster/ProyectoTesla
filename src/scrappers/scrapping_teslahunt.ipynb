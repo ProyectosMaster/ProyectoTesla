{
 "cells": [
  {
   "cell_type": "code",
   "execution_count": 1,
   "id": "635b037e-f363-4726-90e8-a7a3d9e36251",
   "metadata": {},
   "outputs": [],
   "source": [
    "from selenium import webdriver\n",
    "from selenium.webdriver.common.by import By\n",
    "import pandas as pd\n",
    "import time"
   ]
  },
  {
   "cell_type": "code",
   "execution_count": 32,
   "id": "2f9c5919-6b24-42a3-ab87-e1c0287ad574",
   "metadata": {},
   "outputs": [],
   "source": [
    "# Configuración del WebDriver\n",
    "c_options = webdriver.ChromeOptions()\n",
    "c_options.add_argument(\"--start-maximized\")\n",
    "c_driver = webdriver.Chrome(options=c_options)\n",
    "time.sleep(3)\n",
    "\n"
   ]
  },
  {
   "cell_type": "code",
   "execution_count": 33,
   "id": "9009de45-41ce-4a74-9cb4-242012b0827a",
   "metadata": {
    "scrolled": true
   },
   "outputs": [],
   "source": [
    "# ---------------------------------------------SACA 300 COCHES COMO MAXIMO EN CADA BUCLE--------------------------------------------------------------\n",
    "lista = [(\"https://teslahunt.io/?country=Spain&optionCodes=PPSW\",\"blanco\",\"Spain\"),\n",
    "         (\"https://teslahunt.io/?country=Spain&optionCodes=PPSB\",\"azul\",\"Spain\"),\n",
    "         (\"https://teslahunt.io/?country=Spain&optionCodes=PBSB\",\"negro\",\"Spain\"),\n",
    "         (\"https://teslahunt.io/?country=Spain&optionCodes=PMNG\",\"plata\",\"Spain\"),\n",
    "         (\"https://teslahunt.io/?country=Spain&optionCodes=PPMR\",\"rojo\",\"Spain\"),\n",
    "         (\"https://teslahunt.io/?country=Spain&optionCodes=PR01\",\"rojo\",\"Spain\"),\n",
    "         (\"https://teslahunt.io/?country=Spain&optionCodes=PN01\",\"gris\",\"Spain\"),\n",
    "         (\"https://teslahunt.io/?country=Portugal&optionCodes=PPSW\",\"blanco\",\"Portugal\"),\n",
    "         (\"https://teslahunt.io/?country=Portugal&optionCodes=PPSB\",\"azul\",\"Portugal\"),\n",
    "         (\"https://teslahunt.io/?country=Portugal&optionCodes=PBSB\",\"negro\",\"Portugal\"),\n",
    "         (\"https://teslahunt.io/?country=Portugal&optionCodes=PMNG\",\"plata\",\"Portugal\"),\n",
    "         (\"https://teslahunt.io/?country=Portugal&optionCodes=PR01\",\"rojo\",\"Portugal\"),\n",
    "         (\"https://teslahunt.io/?country=Portugal&optionCodes=PN01\",\"gris\",\"Portugal\"),\n",
    "         (\"https://teslahunt.io/?country=France&optionCodes=PPSW\",\"blanco\",\"France\"),\n",
    "         (\"https://teslahunt.io/?country=France&optionCodes=PPSB\",\"azul\",\"France\"),\n",
    "         (\"https://teslahunt.io/?country=France&optionCodes=PBSB\",\"negro\",\"France\"),\n",
    "         (\"https://teslahunt.io/?country=France&optionCodes=PMNG\",\"plata\",\"France\"),\n",
    "         (\"https://teslahunt.io/?country=France&optionCodes=PPMR\",\"rojo\",\"France\"),\n",
    "         (\"https://teslahunt.io/?country=France&optionCodes=PR01\",\"rojo\",\"France\"),\n",
    "         (\"https://teslahunt.io/?country=France&optionCodes=PN01\",\"gris\",\"France\")\n",
    "         ]\n",
    "\n",
    "\n",
    "data = {\n",
    "        \"modelo\": [],\n",
    "        \"precio\":[],\n",
    "        \"matriculacion\":[],\n",
    "        \"kilometraje\":[],\n",
    "        \"color\":[],\n",
    "        \"pais\":[]\n",
    "        \n",
    "}\n",
    "\n",
    "for url, color, pais in lista:\n",
    "    # Navegar a la página\n",
    "    c_driver.get(url)\n",
    "\n",
    "    # Esperar a que la página cargue completamente\n",
    "    time.sleep(3) \n",
    "    \n",
    "    \n",
    "    \n",
    "    for i in range(0,50):\n",
    "        c_driver.execute_script(\"window.scrollTo(0, document.body.scrollHeight);\")\n",
    "        time.sleep(1)\n",
    "        \n",
    "        # Esperar hasta que los autos sean visibles\n",
    "    autos = c_driver.find_element(By.CLASS_NAME, \"infinite-scroll-component\")\n",
    "    autoss = autos.find_elements(By.CLASS_NAME, \"css-1yz7e9k\")\n",
    "\n",
    "\n",
    "    for auto in autoss:\n",
    "        try:\n",
    "            nombre = auto.find_element(By.CLASS_NAME, \"css-1yuuaeh\").text\n",
    "\n",
    "                # Intentar encontrar el precio\n",
    "            try:\n",
    "                contenido = auto.find_element(By.CLASS_NAME, \"css-iq7v1d\").text\n",
    "                precio = contenido.split(\"•\")[0]\n",
    "                matriculacion = contenido.split(\"•\")[1]\n",
    "                kilometraje = contenido.split(\"•\")[2]\n",
    "            except Exception as e:\n",
    "                print(f\"Error al obtener el precio para el auto {nombre}: {e}\")\n",
    "                precio = \"No disponible\"\n",
    "                \n",
    "                # Agregar los datos a la lista\n",
    "            data[\"modelo\"]+= [nombre]\n",
    "            data[\"precio\"]+= [precio]\n",
    "            data[\"matriculacion\"]+=[matriculacion]\n",
    "            data[\"kilometraje\"]+=[kilometraje]\n",
    "            data[\"color\"]+=[color]\n",
    "            data[\"pais\"]+=[pais]\n",
    "        except Exception as e:\n",
    "            print(f\"Error al procesar un auto: {e}\")\n",
    "\n"
   ]
  },
  {
   "cell_type": "code",
   "execution_count": 31,
   "id": "d656b348",
   "metadata": {},
   "outputs": [],
   "source": [
    "c_driver.quit()"
   ]
  },
  {
   "cell_type": "code",
   "execution_count": 34,
   "id": "bf093fa5-3bdd-425f-a4de-098401f0a267",
   "metadata": {},
   "outputs": [],
   "source": [
    "df_tesla = pd.DataFrame(data)\n"
   ]
  },
  {
   "cell_type": "code",
   "execution_count": 35,
   "id": "a8e4765a",
   "metadata": {},
   "outputs": [
    {
     "data": {
      "text/html": [
       "<div>\n",
       "<style scoped>\n",
       "    .dataframe tbody tr th:only-of-type {\n",
       "        vertical-align: middle;\n",
       "    }\n",
       "\n",
       "    .dataframe tbody tr th {\n",
       "        vertical-align: top;\n",
       "    }\n",
       "\n",
       "    .dataframe thead th {\n",
       "        text-align: right;\n",
       "    }\n",
       "</style>\n",
       "<table border=\"1\" class=\"dataframe\">\n",
       "  <thead>\n",
       "    <tr style=\"text-align: right;\">\n",
       "      <th></th>\n",
       "      <th>modelo</th>\n",
       "      <th>precio</th>\n",
       "      <th>matriculacion</th>\n",
       "      <th>kilometraje</th>\n",
       "      <th>color</th>\n",
       "      <th>pais</th>\n",
       "    </tr>\n",
       "  </thead>\n",
       "  <tbody>\n",
       "    <tr>\n",
       "      <th>0</th>\n",
       "      <td>Tesla Model 3</td>\n",
       "      <td>35,100€</td>\n",
       "      <td>2023</td>\n",
       "      <td>39,315kms</td>\n",
       "      <td>blanco</td>\n",
       "      <td>Spain</td>\n",
       "    </tr>\n",
       "    <tr>\n",
       "      <th>1</th>\n",
       "      <td>Tesla Model 3</td>\n",
       "      <td>36,470€</td>\n",
       "      <td>2025</td>\n",
       "      <td>0kms</td>\n",
       "      <td>blanco</td>\n",
       "      <td>Spain</td>\n",
       "    </tr>\n",
       "    <tr>\n",
       "      <th>2</th>\n",
       "      <td>Tesla Model 3</td>\n",
       "      <td>36,700€</td>\n",
       "      <td>2024</td>\n",
       "      <td>1,817kms</td>\n",
       "      <td>blanco</td>\n",
       "      <td>Spain</td>\n",
       "    </tr>\n",
       "    <tr>\n",
       "      <th>3</th>\n",
       "      <td>Tesla Model 3</td>\n",
       "      <td>37,000€</td>\n",
       "      <td>2024</td>\n",
       "      <td>21kms</td>\n",
       "      <td>blanco</td>\n",
       "      <td>Spain</td>\n",
       "    </tr>\n",
       "    <tr>\n",
       "      <th>4</th>\n",
       "      <td>Tesla Model 3</td>\n",
       "      <td>37,300€</td>\n",
       "      <td>2024</td>\n",
       "      <td>676kms</td>\n",
       "      <td>blanco</td>\n",
       "      <td>Spain</td>\n",
       "    </tr>\n",
       "    <tr>\n",
       "      <th>...</th>\n",
       "      <td>...</td>\n",
       "      <td>...</td>\n",
       "      <td>...</td>\n",
       "      <td>...</td>\n",
       "      <td>...</td>\n",
       "      <td>...</td>\n",
       "    </tr>\n",
       "    <tr>\n",
       "      <th>677</th>\n",
       "      <td>Tesla Model 3 Performance</td>\n",
       "      <td>59,980€</td>\n",
       "      <td>2024</td>\n",
       "      <td>0kms</td>\n",
       "      <td>gris</td>\n",
       "      <td>France</td>\n",
       "    </tr>\n",
       "    <tr>\n",
       "      <th>678</th>\n",
       "      <td>Tesla Model X</td>\n",
       "      <td>112,790€</td>\n",
       "      <td>2024</td>\n",
       "      <td>28kms</td>\n",
       "      <td>gris</td>\n",
       "      <td>France</td>\n",
       "    </tr>\n",
       "    <tr>\n",
       "      <th>679</th>\n",
       "      <td>Tesla Model S Plaid</td>\n",
       "      <td>115,490€</td>\n",
       "      <td>2024</td>\n",
       "      <td>18kms</td>\n",
       "      <td>gris</td>\n",
       "      <td>France</td>\n",
       "    </tr>\n",
       "    <tr>\n",
       "      <th>680</th>\n",
       "      <td>Tesla Model S Plaid</td>\n",
       "      <td>116,120€</td>\n",
       "      <td>2024</td>\n",
       "      <td>26kms</td>\n",
       "      <td>gris</td>\n",
       "      <td>France</td>\n",
       "    </tr>\n",
       "    <tr>\n",
       "      <th>681</th>\n",
       "      <td>Tesla Model X Plaid</td>\n",
       "      <td>117,590€</td>\n",
       "      <td>2024</td>\n",
       "      <td>20kms</td>\n",
       "      <td>gris</td>\n",
       "      <td>France</td>\n",
       "    </tr>\n",
       "  </tbody>\n",
       "</table>\n",
       "<p>682 rows × 6 columns</p>\n",
       "</div>"
      ],
      "text/plain": [
       "                        modelo    precio matriculacion kilometraje   color  \\\n",
       "0                Tesla Model 3   35,100€          2023   39,315kms  blanco   \n",
       "1                Tesla Model 3   36,470€          2025        0kms  blanco   \n",
       "2                Tesla Model 3   36,700€          2024    1,817kms  blanco   \n",
       "3                Tesla Model 3   37,000€          2024       21kms  blanco   \n",
       "4                Tesla Model 3   37,300€          2024      676kms  blanco   \n",
       "..                         ...       ...           ...         ...     ...   \n",
       "677  Tesla Model 3 Performance   59,980€          2024        0kms    gris   \n",
       "678              Tesla Model X  112,790€          2024       28kms    gris   \n",
       "679        Tesla Model S Plaid  115,490€          2024       18kms    gris   \n",
       "680        Tesla Model S Plaid  116,120€          2024       26kms    gris   \n",
       "681        Tesla Model X Plaid  117,590€          2024       20kms    gris   \n",
       "\n",
       "       pais  \n",
       "0     Spain  \n",
       "1     Spain  \n",
       "2     Spain  \n",
       "3     Spain  \n",
       "4     Spain  \n",
       "..      ...  \n",
       "677  France  \n",
       "678  France  \n",
       "679  France  \n",
       "680  France  \n",
       "681  France  \n",
       "\n",
       "[682 rows x 6 columns]"
      ]
     },
     "execution_count": 35,
     "metadata": {},
     "output_type": "execute_result"
    }
   ],
   "source": [
    "df_tesla"
   ]
  },
  {
   "cell_type": "code",
   "execution_count": 36,
   "id": "407e9938",
   "metadata": {},
   "outputs": [],
   "source": [
    "df_tesla.to_csv('coches_raul_raw.csv', index=False, encoding='utf-8')"
   ]
  },
  {
   "cell_type": "code",
   "execution_count": 37,
   "id": "bcdc25bd",
   "metadata": {},
   "outputs": [],
   "source": [
    "df_tesla['precio'] = df_tesla['precio'].str.replace('€', '', regex=False)\n"
   ]
  },
  {
   "cell_type": "code",
   "execution_count": 38,
   "id": "af535cd5",
   "metadata": {},
   "outputs": [],
   "source": [
    "df_tesla['kilometraje'] = df_tesla['kilometraje'].str.replace('kms', '', regex=False)"
   ]
  },
  {
   "cell_type": "code",
   "execution_count": 39,
   "id": "4b8976bf",
   "metadata": {},
   "outputs": [],
   "source": [
    "df_tesla['precio'] = df_tesla['precio'].str.replace(',', '', regex=False)\n",
    "df_tesla['kilometraje'] = df_tesla['kilometraje'].str.replace(',', '', regex=False)\n"
   ]
  },
  {
   "cell_type": "code",
   "execution_count": 40,
   "id": "3689c1c0",
   "metadata": {},
   "outputs": [],
   "source": [
    "df_tesla['precio']=df_tesla['precio'].astype(int)\n",
    "df_tesla['matriculacion']=df_tesla['matriculacion'].astype(int)\n",
    "df_tesla['kilometraje']=df_tesla['kilometraje'].astype(int)"
   ]
  },
  {
   "cell_type": "code",
   "execution_count": 41,
   "id": "418c2bb0",
   "metadata": {},
   "outputs": [
    {
     "data": {
      "text/plain": [
       "modelo           object\n",
       "precio            int64\n",
       "matriculacion     int64\n",
       "kilometraje       int64\n",
       "color            object\n",
       "pais             object\n",
       "dtype: object"
      ]
     },
     "execution_count": 41,
     "metadata": {},
     "output_type": "execute_result"
    }
   ],
   "source": [
    "df_tesla.dtypes"
   ]
  },
  {
   "cell_type": "code",
   "execution_count": 42,
   "id": "4cd96131",
   "metadata": {},
   "outputs": [],
   "source": [
    "df_tesla.to_csv('coches_raul.csv', index=False, encoding='utf-8')"
   ]
  },
  {
   "cell_type": "code",
   "execution_count": null,
   "id": "8b0a8f18",
   "metadata": {},
   "outputs": [],
   "source": [
    "# &optionCodes=PPSW  blanco\n",
    "# &optionCodes=PPSB  azul\n",
    "# &optionCodes=PBSB  negro\n",
    "# &optionCodes=PMNG  plata \n",
    "# &optionCodes=PPMR  rojo\n",
    "# &optionCodes=PN01  gris"
   ]
  }
 ],
 "metadata": {
  "kernelspec": {
   "display_name": "iabd_scraping_env",
   "language": "python",
   "name": "python3"
  },
  "language_info": {
   "codemirror_mode": {
    "name": "ipython",
    "version": 3
   },
   "file_extension": ".py",
   "mimetype": "text/x-python",
   "name": "python",
   "nbconvert_exporter": "python",
   "pygments_lexer": "ipython3",
   "version": "3.11.10"
  }
 },
 "nbformat": 4,
 "nbformat_minor": 5
}
